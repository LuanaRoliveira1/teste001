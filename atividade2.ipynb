{
  "nbformat": 4,
  "nbformat_minor": 0,
  "metadata": {
    "colab": {
      "provenance": [],
      "toc_visible": true,
      "authorship_tag": "ABX9TyM9nbYgPA5MKoUt0AMsyhzZ",
      "include_colab_link": true
    },
    "kernelspec": {
      "name": "python3",
      "display_name": "Python 3"
    },
    "language_info": {
      "name": "python"
    }
  },
  "cells": [
    {
      "cell_type": "markdown",
      "metadata": {
        "id": "view-in-github",
        "colab_type": "text"
      },
      "source": [
        "<a href=\"https://colab.research.google.com/github/LuanaRoliveira1/teste001/blob/main/atividade2.ipynb\" target=\"_parent\"><img src=\"https://colab.research.google.com/assets/colab-badge.svg\" alt=\"Open In Colab\"/></a>"
      ]
    },
    {
      "cell_type": "code",
      "execution_count": 1,
      "metadata": {
        "colab": {
          "base_uri": "https://localhost:8080/"
        },
        "id": "9BKWmithBAS4",
        "outputId": "366e620e-5f41-4083-c825-e52fecbffd4f"
      },
      "outputs": [
        {
          "name": "stdout",
          "output_type": "stream",
          "text": [
            "Querida Carolina Santos, seu email (carolina.santos@gmail.com) foi verificado.\n",
            "Olá Lucas Oliveira, seu email (lucas.oliveira@yahoo.com) foi verificado.\n",
            "Querida Isabela Costa, seu email (isabela.costa@outlook.com) foi verificado.\n",
            "Olá Marcos Silva, seu email (marcos.silva@hotmail.com) foi verificado.\n",
            "Querida Amanda Pereira, seu email (amanda.pereira@gmail.com) foi verificado.\n",
            "Deseja adicionar mais uma pessoa? (s/n): s\n",
            "Nome: luana rodrigues\n",
            "Email: luluoliveira321@gmail.com\n",
            "Gênero (M/F): f\n",
            "Querida luana rodrigues, seu email (luluoliveira321@gmail.com) foi verificado.\n",
            "Deseja adicionar mais uma pessoa? (s/n): n\n"
          ]
        }
      ],
      "source": [
        "pessoas = [\n",
        "    {\"nome\": \"Carolina Santos\", \"email\": \"carolina.santos@gmail.com\", \"genero\": \"F\"},\n",
        "    {\"nome\": \"Lucas Oliveira\", \"email\": \"lucas.oliveira@yahoo.com\", \"genero\": \"M\"},\n",
        "    {\"nome\": \"Isabela Costa\", \"email\": \"isabela.costa@outlook.com\", \"genero\": \"F\"},\n",
        "    {\"nome\": \"Marcos Silva\", \"email\": \"marcos.silva@hotmail.com\", \"genero\": \"M\"},\n",
        "    {\"nome\": \"Amanda Pereira\", \"email\": \"amanda.pereira@gmail.com\", \"genero\": \"F\"}\n",
        "]\n",
        "\n",
        "def gerar_mensagem(pessoa):\n",
        "    saudacao = \"Querida\" if pessoa[\"genero\"] == \"F\" else \"Olá\"\n",
        "    print(f\"{saudacao} {pessoa['nome']}, seu email ({pessoa['email']}) foi verificado.\")\n",
        "\n",
        "for pessoa in pessoas:\n",
        "    gerar_mensagem(pessoa)\n",
        "\n",
        "while True:\n",
        "    if input(\"Deseja adicionar mais uma pessoa? (s/n): \").lower() != 's':\n",
        "        break\n",
        "    nome = input(\"Nome: \")\n",
        "    email = input(\"Email: \")\n",
        "    genero = input(\"Gênero (M/F): \").upper()\n",
        "\n",
        "    nova_pessoa = {\"nome\": nome, \"email\": email, \"genero\": genero}\n",
        "    pessoas.append(nova_pessoa)\n",
        "    gerar_mensagem(nova_pessoa)\n",
        ""
      ]
    },
    {
      "cell_type": "code",
      "source": [
        "from google.colab import drive\n",
        "drive.mount('/content/drive')"
      ],
      "metadata": {
        "id": "I9KPqsVxCN5N"
      },
      "execution_count": null,
      "outputs": []
    }
  ]
}